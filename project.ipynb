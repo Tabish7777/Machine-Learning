{
 "cells": [
  {
   "cell_type": "code",
   "execution_count": 1,
   "id": "2ca643b4",
   "metadata": {},
   "outputs": [],
   "source": [
    "import pandas as pd\n",
    "import numpy as np\n",
    "import seaborn as sns\n",
    "import matplotlib.pyplot as plt\n",
    "%matplotlib inline\n",
    "import warnings\n",
    "warnings.filterwarnings(\"ignore\")"
   ]
  },
  {
   "cell_type": "code",
   "execution_count": 2,
   "id": "0ed49132",
   "metadata": {},
   "outputs": [
    {
     "name": "stdout",
     "output_type": "stream",
     "text": [
      "********************************************ANALYSIS************************************************\n",
      "\n",
      "\t\t\t\tProject topic:-Customer personal loans Prediction.\n",
      "\n",
      "\t(1)Took Data set from kaggle\n",
      "\n",
      "\t(2)I will be doing Exeploratary Data Analysis using Numpy,pandas,matplotlib and seaborn.\n",
      "\n",
      "\t(3)Will be making prediction models using number of machine learning regression algorithms.\n"
     ]
    }
   ],
   "source": [
    "print(\"********************************************ANALYSIS************************************************\\n\\n\\t\\t\\t\\tProject topic:-Customer personal loans Prediction.\\n\\n\\t(1)Took Data set from kaggle\\n\\n\\t(2)I will be doing Exeploratary Data Analysis using Numpy,pandas,matplotlib and seaborn.\\n\\n\\t(3)Will be making prediction models using number of machine learning regression algorithms.\")"
   ]
  },
  {
   "cell_type": "code",
   "execution_count": 3,
   "id": "42a77b1e",
   "metadata": {},
   "outputs": [
    {
     "name": "stdout",
     "output_type": "stream",
     "text": [
      "*******************************************Data set description****************************************************\n",
      "\n",
      "\tThe file Bank.xls contains data on 5000 customers. The data include customer demographic information (age, income, etc.), the customer's relationship with the bank (mortgage, securities account, etc.), and the customer response to the last personal loan campaign (Personal Loan). Among these 5000 customers, only 480 (= 9.6%) accepted the personal loan that was offered to them in the earlier campaign.\n",
      "\n",
      "Objective:The classification goal is to predict the likelihood of a liability customer buying personal loans.\n"
     ]
    }
   ],
   "source": [
    "print(\"*******************************************Data set description****************************************************\\n\\n\\tThe file Bank.xls contains data on 5000 customers. The data include customer demographic information (age, income, etc.), the customer's relationship with the bank (mortgage, securities account, etc.), and the customer response to the last personal loan campaign (Personal Loan). Among these 5000 customers, only 480 (= 9.6%) accepted the personal loan that was offered to them in the earlier campaign.\\n\\nObjective:The classification goal is to predict the likelihood of a liability customer buying personal loans.\")"
   ]
  },
  {
   "cell_type": "code",
   "execution_count": 4,
   "id": "c80bda8e",
   "metadata": {},
   "outputs": [],
   "source": [
    "df=pd.read_csv(\"Bank_Personal_Loan_Modelling.csv\")"
   ]
  },
  {
   "cell_type": "code",
   "execution_count": 5,
   "id": "57306a53",
   "metadata": {},
   "outputs": [
    {
     "data": {
      "text/html": [
       "<div>\n",
       "<style scoped>\n",
       "    .dataframe tbody tr th:only-of-type {\n",
       "        vertical-align: middle;\n",
       "    }\n",
       "\n",
       "    .dataframe tbody tr th {\n",
       "        vertical-align: top;\n",
       "    }\n",
       "\n",
       "    .dataframe thead th {\n",
       "        text-align: right;\n",
       "    }\n",
       "</style>\n",
       "<table border=\"1\" class=\"dataframe\">\n",
       "  <thead>\n",
       "    <tr style=\"text-align: right;\">\n",
       "      <th></th>\n",
       "      <th>ID</th>\n",
       "      <th>Age</th>\n",
       "      <th>Experience</th>\n",
       "      <th>Income</th>\n",
       "      <th>ZIP Code</th>\n",
       "      <th>Family</th>\n",
       "      <th>CCAvg</th>\n",
       "      <th>Education</th>\n",
       "      <th>Mortgage</th>\n",
       "      <th>Personal Loan</th>\n",
       "      <th>Securities Account</th>\n",
       "      <th>CD Account</th>\n",
       "      <th>Online</th>\n",
       "      <th>CreditCard</th>\n",
       "    </tr>\n",
       "  </thead>\n",
       "  <tbody>\n",
       "    <tr>\n",
       "      <th>0</th>\n",
       "      <td>1</td>\n",
       "      <td>25</td>\n",
       "      <td>1</td>\n",
       "      <td>49</td>\n",
       "      <td>91107</td>\n",
       "      <td>4</td>\n",
       "      <td>1.6</td>\n",
       "      <td>1</td>\n",
       "      <td>0</td>\n",
       "      <td>0</td>\n",
       "      <td>1</td>\n",
       "      <td>0</td>\n",
       "      <td>0</td>\n",
       "      <td>0</td>\n",
       "    </tr>\n",
       "    <tr>\n",
       "      <th>1</th>\n",
       "      <td>2</td>\n",
       "      <td>45</td>\n",
       "      <td>19</td>\n",
       "      <td>34</td>\n",
       "      <td>90089</td>\n",
       "      <td>3</td>\n",
       "      <td>1.5</td>\n",
       "      <td>1</td>\n",
       "      <td>0</td>\n",
       "      <td>0</td>\n",
       "      <td>1</td>\n",
       "      <td>0</td>\n",
       "      <td>0</td>\n",
       "      <td>0</td>\n",
       "    </tr>\n",
       "    <tr>\n",
       "      <th>2</th>\n",
       "      <td>3</td>\n",
       "      <td>39</td>\n",
       "      <td>15</td>\n",
       "      <td>11</td>\n",
       "      <td>94720</td>\n",
       "      <td>1</td>\n",
       "      <td>1.0</td>\n",
       "      <td>1</td>\n",
       "      <td>0</td>\n",
       "      <td>0</td>\n",
       "      <td>0</td>\n",
       "      <td>0</td>\n",
       "      <td>0</td>\n",
       "      <td>0</td>\n",
       "    </tr>\n",
       "    <tr>\n",
       "      <th>3</th>\n",
       "      <td>4</td>\n",
       "      <td>35</td>\n",
       "      <td>9</td>\n",
       "      <td>100</td>\n",
       "      <td>94112</td>\n",
       "      <td>1</td>\n",
       "      <td>2.7</td>\n",
       "      <td>2</td>\n",
       "      <td>0</td>\n",
       "      <td>0</td>\n",
       "      <td>0</td>\n",
       "      <td>0</td>\n",
       "      <td>0</td>\n",
       "      <td>0</td>\n",
       "    </tr>\n",
       "    <tr>\n",
       "      <th>4</th>\n",
       "      <td>5</td>\n",
       "      <td>35</td>\n",
       "      <td>8</td>\n",
       "      <td>45</td>\n",
       "      <td>91330</td>\n",
       "      <td>4</td>\n",
       "      <td>1.0</td>\n",
       "      <td>2</td>\n",
       "      <td>0</td>\n",
       "      <td>0</td>\n",
       "      <td>0</td>\n",
       "      <td>0</td>\n",
       "      <td>0</td>\n",
       "      <td>1</td>\n",
       "    </tr>\n",
       "  </tbody>\n",
       "</table>\n",
       "</div>"
      ],
      "text/plain": [
       "   ID  Age  Experience  Income  ZIP Code  Family  CCAvg  Education  Mortgage  \\\n",
       "0   1   25           1      49     91107       4    1.6          1         0   \n",
       "1   2   45          19      34     90089       3    1.5          1         0   \n",
       "2   3   39          15      11     94720       1    1.0          1         0   \n",
       "3   4   35           9     100     94112       1    2.7          2         0   \n",
       "4   5   35           8      45     91330       4    1.0          2         0   \n",
       "\n",
       "   Personal Loan  Securities Account  CD Account  Online  CreditCard  \n",
       "0              0                   1           0       0           0  \n",
       "1              0                   1           0       0           0  \n",
       "2              0                   0           0       0           0  \n",
       "3              0                   0           0       0           0  \n",
       "4              0                   0           0       0           1  "
      ]
     },
     "execution_count": 5,
     "metadata": {},
     "output_type": "execute_result"
    }
   ],
   "source": [
    "df.head()"
   ]
  },
  {
   "cell_type": "markdown",
   "id": "2ceaef73",
   "metadata": {},
   "source": [
    "### Features(attributes) Understanding from the above dataframe :-\n",
    "\n",
    "The ID variable can be ignored as it will not any effect on our model. As we know customer Id is just to maitain the record in serial order. There is no relationship with Id and Loan.\n",
    "Target Variable is Personal Loan which describe whether the person has taken loan or not. This is the variable which we need to predict.\n",
    "Nonimal Varibles :\n",
    "\n",
    "* ID - Customer ID\n",
    "* ZIP Code - Home Address ZIP code of the customer. This variable can also be ignored becasue we can not judge the customers based on thier area or location.\n",
    "\n",
    " Ordinal Categorical variables :\n",
    "\n",
    "* Family - Number of famlily member of the customer\n",
    "* Education - Education level of the customer. In our dataset it ranges from 1 to 3 which are Under Graduate, Graduate and Post Graduate respectivly.\n",
    "\n",
    " Interval Variables :\n",
    "\n",
    "* Age - Age of the customer\n",
    "* Experience - Years of experience of customer has\n",
    "* Income - Annula Income of the customer which is in dollars\n",
    "* CCAvg - Avg. spending on credit cards per month which in dollars.\n",
    "* Mortgage - Value of House Mortgage\n",
    "\n",
    " Binary Categorical Variable :\n",
    "\n",
    "* CD Account - Does the customer have CD Account with bank or not?\n",
    "* Security Account - Does the customer have Security Account with bank or not?\n",
    "* Online - Does the customer have Online banking facility with bank or not?\n",
    "* Credit Card - Does the customer have a credit card issued by Universal Bank or not?\n",
    "* Personal Loan - This our target variable which we have to predict. This indicates that the customer has token loan or not?"
   ]
  },
  {
   "cell_type": "markdown",
   "id": "68f9f711",
   "metadata": {},
   "source": [
    "### Shape of the Data"
   ]
  },
  {
   "cell_type": "code",
   "execution_count": 6,
   "id": "2db0db1d",
   "metadata": {},
   "outputs": [
    {
     "name": "stdout",
     "output_type": "stream",
     "text": [
      "Total Number of rows : 5000\n",
      "Total Number of columns : 14\n"
     ]
    }
   ],
   "source": [
    "rows_count, columns_count = df.shape\n",
    "print('Total Number of rows :', rows_count)\n",
    "print('Total Number of columns :', columns_count)"
   ]
  },
  {
   "cell_type": "markdown",
   "id": "c73bb56e",
   "metadata": {},
   "source": [
    "Shape of the dataframe is (5000, 14). There are 5000 rows and 14 columns in the dataset."
   ]
  },
  {
   "cell_type": "code",
   "execution_count": 7,
   "id": "dee4c46c",
   "metadata": {},
   "outputs": [
    {
     "name": "stdout",
     "output_type": "stream",
     "text": [
      "<class 'pandas.core.frame.DataFrame'>\n",
      "RangeIndex: 5000 entries, 0 to 4999\n",
      "Data columns (total 14 columns):\n",
      " #   Column              Non-Null Count  Dtype  \n",
      "---  ------              --------------  -----  \n",
      " 0   ID                  5000 non-null   int64  \n",
      " 1   Age                 5000 non-null   int64  \n",
      " 2   Experience          5000 non-null   int64  \n",
      " 3   Income              5000 non-null   int64  \n",
      " 4   ZIP Code            5000 non-null   int64  \n",
      " 5   Family              5000 non-null   int64  \n",
      " 6   CCAvg               5000 non-null   float64\n",
      " 7   Education           5000 non-null   int64  \n",
      " 8   Mortgage            5000 non-null   int64  \n",
      " 9   Personal Loan       5000 non-null   int64  \n",
      " 10  Securities Account  5000 non-null   int64  \n",
      " 11  CD Account          5000 non-null   int64  \n",
      " 12  Online              5000 non-null   int64  \n",
      " 13  CreditCard          5000 non-null   int64  \n",
      "dtypes: float64(1), int64(13)\n",
      "memory usage: 547.0 KB\n"
     ]
    }
   ],
   "source": [
    "df.info()"
   ]
  },
  {
   "cell_type": "markdown",
   "id": "30d859d6",
   "metadata": {},
   "source": [
    "Here we can see that all the variables are numerical. But the columns 'CD Account', 'Online', 'Family', 'Education' , 'CreditCard' and 'Securities Account' are categorical variable which should be in 'category' type."
   ]
  },
  {
   "cell_type": "markdown",
   "id": "366e6c4a",
   "metadata": {},
   "source": [
    "### Checking the presence of missing values "
   ]
  },
  {
   "cell_type": "code",
   "execution_count": 8,
   "id": "fe1cf58f",
   "metadata": {},
   "outputs": [
    {
     "data": {
      "text/plain": [
       "ID                    0\n",
       "Age                   0\n",
       "Experience            0\n",
       "Income                0\n",
       "ZIP Code              0\n",
       "Family                0\n",
       "CCAvg                 0\n",
       "Education             0\n",
       "Mortgage              0\n",
       "Personal Loan         0\n",
       "Securities Account    0\n",
       "CD Account            0\n",
       "Online                0\n",
       "CreditCard            0\n",
       "dtype: int64"
      ]
     },
     "execution_count": 8,
     "metadata": {},
     "output_type": "execute_result"
    }
   ],
   "source": [
    "df.isnull().sum() "
   ]
  },
  {
   "cell_type": "markdown",
   "id": "a36945ae",
   "metadata": {},
   "source": [
    " Here total missing values count from each column is 0 and we can see there is no missing value in the dataframe"
   ]
  },
  {
   "cell_type": "markdown",
   "id": "cf170c4e",
   "metadata": {},
   "source": [
    "### Missing value Visualization "
   ]
  },
  {
   "cell_type": "code",
   "execution_count": 9,
   "id": "6d01ca49",
   "metadata": {},
   "outputs": [
    {
     "data": {
      "text/plain": [
       "<AxesSubplot:>"
      ]
     },
     "execution_count": 9,
     "metadata": {},
     "output_type": "execute_result"
    },
    {
     "data": {
      "image/png": "[encoded data removed]",
      "text/plain": [
       "<Figure size 640x480 with 1 Axes>"
      ]
     },
     "metadata": {},
     "output_type": "display_data"
    }
   ],
   "source": [
    "sns.heatmap(df.isna(), yticklabels=False, cbar=False, cmap='viridis')"
   ]
  },
  {
   "cell_type": "markdown",
   "id": "1aba8840",
   "metadata": {},
   "source": [
    "From the above heatmap graph we can see that there is no missing value in dataset."
   ]
  },
  {
   "cell_type": "code",
   "execution_count": 10,
   "id": "29cc8573",
   "metadata": {},
   "outputs": [
    {
     "data": {
      "text/html": [
       "<div>\n",
       "<style scoped>\n",
       "    .dataframe tbody tr th:only-of-type {\n",
       "        vertical-align: middle;\n",
       "    }\n",
       "\n",
       "    .dataframe tbody tr th {\n",
       "        vertical-align: top;\n",
       "    }\n",
       "\n",
       "    .dataframe thead th {\n",
       "        text-align: right;\n",
       "    }\n",
       "</style>\n",
       "<table border=\"1\" class=\"dataframe\">\n",
       "  <thead>\n",
       "    <tr style=\"text-align: right;\">\n",
       "      <th></th>\n",
       "      <th>count</th>\n",
       "      <th>mean</th>\n",
       "      <th>std</th>\n",
       "      <th>min</th>\n",
       "      <th>25%</th>\n",
       "      <th>50%</th>\n",
       "      <th>75%</th>\n",
       "      <th>max</th>\n",
       "    </tr>\n",
       "  </thead>\n",
       "  <tbody>\n",
       "    <tr>\n",
       "      <th>ID</th>\n",
       "      <td>5000.0</td>\n",
       "      <td>2500.500000</td>\n",
       "      <td>1443.520003</td>\n",
       "      <td>1.0</td>\n",
       "      <td>1250.75</td>\n",
       "      <td>2500.5</td>\n",
       "      <td>3750.25</td>\n",
       "      <td>5000.0</td>\n",
       "    </tr>\n",
       "    <tr>\n",
       "      <th>Age</th>\n",
       "      <td>5000.0</td>\n",
       "      <td>45.338400</td>\n",
       "      <td>11.463166</td>\n",
       "      <td>23.0</td>\n",
       "      <td>35.00</td>\n",
       "      <td>45.0</td>\n",
       "      <td>55.00</td>\n",
       "      <td>67.0</td>\n",
       "    </tr>\n",
       "    <tr>\n",
       "      <th>Experience</th>\n",
       "      <td>5000.0</td>\n",
       "      <td>20.104600</td>\n",
       "      <td>11.467954</td>\n",
       "      <td>-3.0</td>\n",
       "      <td>10.00</td>\n",
       "      <td>20.0</td>\n",
       "      <td>30.00</td>\n",
       "      <td>43.0</td>\n",
       "    </tr>\n",
       "    <tr>\n",
       "      <th>Income</th>\n",
       "      <td>5000.0</td>\n",
       "      <td>73.774200</td>\n",
       "      <td>46.033729</td>\n",
       "      <td>8.0</td>\n",
       "      <td>39.00</td>\n",
       "      <td>64.0</td>\n",
       "      <td>98.00</td>\n",
       "      <td>224.0</td>\n",
       "    </tr>\n",
       "    <tr>\n",
       "      <th>ZIP Code</th>\n",
       "      <td>5000.0</td>\n",
       "      <td>93152.503000</td>\n",
       "      <td>2121.852197</td>\n",
       "      <td>9307.0</td>\n",
       "      <td>91911.00</td>\n",
       "      <td>93437.0</td>\n",
       "      <td>94608.00</td>\n",
       "      <td>96651.0</td>\n",
       "    </tr>\n",
       "    <tr>\n",
       "      <th>Family</th>\n",
       "      <td>5000.0</td>\n",
       "      <td>2.396400</td>\n",
       "      <td>1.147663</td>\n",
       "      <td>1.0</td>\n",
       "      <td>1.00</td>\n",
       "      <td>2.0</td>\n",
       "      <td>3.00</td>\n",
       "      <td>4.0</td>\n",
       "    </tr>\n",
       "    <tr>\n",
       "      <th>CCAvg</th>\n",
       "      <td>5000.0</td>\n",
       "      <td>1.937938</td>\n",
       "      <td>1.747659</td>\n",
       "      <td>0.0</td>\n",
       "      <td>0.70</td>\n",
       "      <td>1.5</td>\n",
       "      <td>2.50</td>\n",
       "      <td>10.0</td>\n",
       "    </tr>\n",
       "    <tr>\n",
       "      <th>Education</th>\n",
       "      <td>5000.0</td>\n",
       "      <td>1.881000</td>\n",
       "      <td>0.839869</td>\n",
       "      <td>1.0</td>\n",
       "      <td>1.00</td>\n",
       "      <td>2.0</td>\n",
       "      <td>3.00</td>\n",
       "      <td>3.0</td>\n",
       "    </tr>\n",
       "    <tr>\n",
       "      <th>Mortgage</th>\n",
       "      <td>5000.0</td>\n",
       "      <td>56.498800</td>\n",
       "      <td>101.713802</td>\n",
       "      <td>0.0</td>\n",
       "      <td>0.00</td>\n",
       "      <td>0.0</td>\n",
       "      <td>101.00</td>\n",
       "      <td>635.0</td>\n",
       "    </tr>\n",
       "    <tr>\n",
       "      <th>Personal Loan</th>\n",
       "      <td>5000.0</td>\n",
       "      <td>0.096000</td>\n",
       "      <td>0.294621</td>\n",
       "      <td>0.0</td>\n",
       "      <td>0.00</td>\n",
       "      <td>0.0</td>\n",
       "      <td>0.00</td>\n",
       "      <td>1.0</td>\n",
       "    </tr>\n",
       "    <tr>\n",
       "      <th>Securities Account</th>\n",
       "      <td>5000.0</td>\n",
       "      <td>0.104400</td>\n",
       "      <td>0.305809</td>\n",
       "      <td>0.0</td>\n",
       "      <td>0.00</td>\n",
       "      <td>0.0</td>\n",
       "      <td>0.00</td>\n",
       "      <td>1.0</td>\n",
       "    </tr>\n",
       "    <tr>\n",
       "      <th>CD Account</th>\n",
       "      <td>5000.0</td>\n",
       "      <td>0.060400</td>\n",
       "      <td>0.238250</td>\n",
       "      <td>0.0</td>\n",
       "      <td>0.00</td>\n",
       "      <td>0.0</td>\n",
       "      <td>0.00</td>\n",
       "      <td>1.0</td>\n",
       "    </tr>\n",
       "    <tr>\n",
       "      <th>Online</th>\n",
       "      <td>5000.0</td>\n",
       "      <td>0.596800</td>\n",
       "      <td>0.490589</td>\n",
       "      <td>0.0</td>\n",
       "      <td>0.00</td>\n",
       "      <td>1.0</td>\n",
       "      <td>1.00</td>\n",
       "      <td>1.0</td>\n",
       "    </tr>\n",
       "    <tr>\n",
       "      <th>CreditCard</th>\n",
       "      <td>5000.0</td>\n",
       "      <td>0.294000</td>\n",
       "      <td>0.455637</td>\n",
       "      <td>0.0</td>\n",
       "      <td>0.00</td>\n",
       "      <td>0.0</td>\n",
       "      <td>1.00</td>\n",
       "      <td>1.0</td>\n",
       "    </tr>\n",
       "  </tbody>\n",
       "</table>\n",
       "</div>"
      ],
      "text/plain": [
       "                     count          mean          std     min       25%  \\\n",
       "ID                  5000.0   2500.500000  1443.520003     1.0   1250.75   \n",
       "Age                 5000.0     45.338400    11.463166    23.0     35.00   \n",
       "Experience          5000.0     20.104600    11.467954    -3.0     10.00   \n",
       "Income              5000.0     73.774200    46.033729     8.0     39.00   \n",
       "ZIP Code            5000.0  93152.503000  2121.852197  9307.0  91911.00   \n",
       "Family              5000.0      2.396400     1.147663     1.0      1.00   \n",
       "CCAvg               5000.0      1.937938     1.747659     0.0      0.70   \n",
       "Education           5000.0      1.881000     0.839869     1.0      1.00   \n",
       "Mortgage            5000.0     56.498800   101.713802     0.0      0.00   \n",
       "Personal Loan       5000.0      0.096000     0.294621     0.0      0.00   \n",
       "Securities Account  5000.0      0.104400     0.305809     0.0      0.00   \n",
       "CD Account          5000.0      0.060400     0.238250     0.0      0.00   \n",
       "Online              5000.0      0.596800     0.490589     0.0      0.00   \n",
       "CreditCard          5000.0      0.294000     0.455637     0.0      0.00   \n",
       "\n",
       "                        50%       75%      max  \n",
       "ID                   2500.5   3750.25   5000.0  \n",
       "Age                    45.0     55.00     67.0  \n",
       "Experience             20.0     30.00     43.0  \n",
       "Income                 64.0     98.00    224.0  \n",
       "ZIP Code            93437.0  94608.00  96651.0  \n",
       "Family                  2.0      3.00      4.0  \n",
       "CCAvg                   1.5      2.50     10.0  \n",
       "Education               2.0      3.00      3.0  \n",
       "Mortgage                0.0    101.00    635.0  \n",
       "Personal Loan           0.0      0.00      1.0  \n",
       "Securities Account      0.0      0.00      1.0  \n",
       "CD Account              0.0      0.00      1.0  \n",
       "Online                  1.0      1.00      1.0  \n",
       "CreditCard              0.0      1.00      1.0  "
      ]
     },
     "execution_count": 10,
     "metadata": {},
     "output_type": "execute_result"
    }
   ],
   "source": [
    "df.describe().transpose()"
   ]
  },
  {
   "cell_type": "markdown",
   "id": "d0cfe99c",
   "metadata": {},
   "source": [
    "The feature ID does not add any information, there is no realationship between Id and Loan, We can remove this row"
   ]
  },
  {
   "cell_type": "markdown",
   "id": "cdd85336",
   "metadata": {},
   "source": [
    "## Binary Catagorical Data distribution\n",
    "\n",
    "1. Personal Loan - Did this customer accept the personal loan offered in the last campaign? (Target)\n",
    "\n",
    "2. Securities Account - Does the customer have a securities account with the bank?\n",
    "\n",
    "3. CD Account - Does the customer have a certificate of deposit (CD) account with the bank?\n",
    "\n",
    "4. Online - Does the customer use internet banking facilities?\n",
    "\n",
    "5. Credit Card - Does the customer use a credit card issued by UniversalBank?"
   ]
  },
  {
   "cell_type": "code",
   "execution_count": 11,
   "id": "d8f4226b",
   "metadata": {},
   "outputs": [
    {
     "data": {
      "image/png": "[encoded data removed]",
      "text/plain": [
       "<Figure size 1200x600 with 4 Axes>"
      ]
     },
     "metadata": {},
     "output_type": "display_data"
    }
   ],
   "source": [
    "fig, axes = plt.subplots(2, 2, figsize=(12, 6))\n",
    "sns.countplot(x=df['Securities Account'],ax=axes[0,0])\n",
    "sns.countplot(x=df['CD Account'],palette='Set1',ax=axes[0,1])\n",
    "sns.countplot(x=df['Online'],palette='Set2',ax=axes[1,0])\n",
    "sns.countplot(x=df['CreditCard'],palette='Set3',ax=axes[1,1])\n",
    "fig.tight_layout()"
   ]
  },
  {
   "cell_type": "markdown",
   "id": "d7b4dd7c",
   "metadata": {},
   "source": [
    " Watching the graphs above we can say there is a significant diffrenece among binary catagorical data encluding 'Online' feature."
   ]
  },
  {
   "cell_type": "markdown",
   "id": "3e75f8a5",
   "metadata": {},
   "source": [
    "### lets see how our Target variable is forming up with our other Catagorical binary data."
   ]
  },
  {
   "cell_type": "code",
   "execution_count": 12,
   "id": "b752d6d1",
   "metadata": {},
   "outputs": [
    {
     "data": {
      "image/png": "[encoded data removed]",
      "text/plain": [
       "<Figure size 1200x600 with 4 Axes>"
      ]
     },
     "metadata": {},
     "output_type": "display_data"
    }
   ],
   "source": [
    "fig, axes = plt.subplots(2, 2, figsize=(12, 6))\n",
    "sns.countplot(x=\"Securities Account\",data=df, hue=\"Personal Loan\",ax=axes[0,0])\n",
    "sns.countplot(x=\"CD Account\",data=df, hue=\"Personal Loan\",palette='Set1',ax=axes[0,1])\n",
    "sns.countplot(x=\"Online\",data=df, hue=\"Personal Loan\",palette='Set2',ax=axes[1,0])\n",
    "sns.countplot(x=\"CreditCard\",data=df, hue=\"Personal Loan\",palette='Set3',ax=axes[1,1])\n",
    "fig.tight_layout()"
   ]
  },
  {
   "cell_type": "markdown",
   "id": "512bd436",
   "metadata": {},
   "source": [
    "## Observation :\n",
    "1.Most of the customers who does not have 'Personal Loan' have 'Securities Account'\n",
    "\n",
    "2.Almost All customers who has 'CD Account' have 'Personal Loan' as well.\n",
    "\n",
    "3.Majority of customers who have 'Personal Loan' also uses 'Online banking facilities', but the difference is not so significant\n",
    "\n",
    "4.Most of the Customer who does not have 'Personal Loan' also does not have 'Credit Card'"
   ]
  },
  {
   "cell_type": "code",
   "execution_count": 13,
   "id": "6a141870",
   "metadata": {},
   "outputs": [
    {
     "data": {
      "image/png": "[encoded data removed]",
      "text/plain": [
       "<Figure size 1200x600 with 2 Axes>"
      ]
     },
     "metadata": {},
     "output_type": "display_data"
    }
   ],
   "source": [
    "fig, axes = plt.subplots(2, figsize=(12, 6))\n",
    "sns.countplot(x=\"Family\",data=df,ax=axes[0])\n",
    "sns.countplot(x=\"Education\",data=df,palette='Set1',ax=axes[1])\n",
    "fig.tight_layout()"
   ]
  },
  {
   "cell_type": "markdown",
   "id": "a3bfe0d3",
   "metadata": {},
   "source": [
    "1. Family - Family size of the customer\n",
    "\n",
    "2. Education - education level of the customer (1. Undergrad 2. Graduate 3. Advanced/Professional)"
   ]
  },
  {
   "cell_type": "code",
   "execution_count": 14,
   "id": "4fe3f96f",
   "metadata": {},
   "outputs": [
    {
     "data": {
      "image/png": "[encoded data removed]",
      "text/plain": [
       "<Figure size 1200x600 with 2 Axes>"
      ]
     },
     "metadata": {},
     "output_type": "display_data"
    }
   ],
   "source": [
    "fig, axes = plt.subplots(2, figsize=(12, 6))\n",
    "sns.countplot(x=\"Family\",data=df, hue=\"Personal Loan\",ax=axes[0])\n",
    "sns.countplot(x=\"Education\",data=df, hue=\"Personal Loan\",palette='Set1',ax=axes[1])\n",
    "fig.tight_layout()"
   ]
  },
  {
   "cell_type": "markdown",
   "id": "ed98e5c0",
   "metadata": {},
   "source": [
    "### Observation :\n",
    "1.Most of the customers who does not have 'Personal Loan' have one member in family, else data is not much of segregated\n",
    "\n",
    "2.Most of the customers who does not have 'Personal Loan' are UnderGraduate, and we can see if education level increases then more customer have personal loan"
   ]
  },
  {
   "cell_type": "code",
   "execution_count": 15,
   "id": "46c90b31",
   "metadata": {},
   "outputs": [
    {
     "data": {
      "text/html": [
       "<div>\n",
       "<style scoped>\n",
       "    .dataframe tbody tr th:only-of-type {\n",
       "        vertical-align: middle;\n",
       "    }\n",
       "\n",
       "    .dataframe tbody tr th {\n",
       "        vertical-align: top;\n",
       "    }\n",
       "\n",
       "    .dataframe thead th {\n",
       "        text-align: right;\n",
       "    }\n",
       "</style>\n",
       "<table border=\"1\" class=\"dataframe\">\n",
       "  <thead>\n",
       "    <tr style=\"text-align: right;\">\n",
       "      <th></th>\n",
       "      <th>count</th>\n",
       "      <th>mean</th>\n",
       "      <th>std</th>\n",
       "      <th>min</th>\n",
       "      <th>25%</th>\n",
       "      <th>50%</th>\n",
       "      <th>75%</th>\n",
       "      <th>max</th>\n",
       "    </tr>\n",
       "  </thead>\n",
       "  <tbody>\n",
       "    <tr>\n",
       "      <th>Age</th>\n",
       "      <td>5000.0</td>\n",
       "      <td>45.338400</td>\n",
       "      <td>11.463166</td>\n",
       "      <td>23.0</td>\n",
       "      <td>35.0</td>\n",
       "      <td>45.0</td>\n",
       "      <td>55.0</td>\n",
       "      <td>67.0</td>\n",
       "    </tr>\n",
       "    <tr>\n",
       "      <th>Experience</th>\n",
       "      <td>5000.0</td>\n",
       "      <td>20.104600</td>\n",
       "      <td>11.467954</td>\n",
       "      <td>-3.0</td>\n",
       "      <td>10.0</td>\n",
       "      <td>20.0</td>\n",
       "      <td>30.0</td>\n",
       "      <td>43.0</td>\n",
       "    </tr>\n",
       "    <tr>\n",
       "      <th>Income</th>\n",
       "      <td>5000.0</td>\n",
       "      <td>73.774200</td>\n",
       "      <td>46.033729</td>\n",
       "      <td>8.0</td>\n",
       "      <td>39.0</td>\n",
       "      <td>64.0</td>\n",
       "      <td>98.0</td>\n",
       "      <td>224.0</td>\n",
       "    </tr>\n",
       "    <tr>\n",
       "      <th>CCAvg</th>\n",
       "      <td>5000.0</td>\n",
       "      <td>1.937938</td>\n",
       "      <td>1.747659</td>\n",
       "      <td>0.0</td>\n",
       "      <td>0.7</td>\n",
       "      <td>1.5</td>\n",
       "      <td>2.5</td>\n",
       "      <td>10.0</td>\n",
       "    </tr>\n",
       "    <tr>\n",
       "      <th>Mortgage</th>\n",
       "      <td>5000.0</td>\n",
       "      <td>56.498800</td>\n",
       "      <td>101.713802</td>\n",
       "      <td>0.0</td>\n",
       "      <td>0.0</td>\n",
       "      <td>0.0</td>\n",
       "      <td>101.0</td>\n",
       "      <td>635.0</td>\n",
       "    </tr>\n",
       "  </tbody>\n",
       "</table>\n",
       "</div>"
      ],
      "text/plain": [
       "             count       mean         std   min   25%   50%    75%    max\n",
       "Age         5000.0  45.338400   11.463166  23.0  35.0  45.0   55.0   67.0\n",
       "Experience  5000.0  20.104600   11.467954  -3.0  10.0  20.0   30.0   43.0\n",
       "Income      5000.0  73.774200   46.033729   8.0  39.0  64.0   98.0  224.0\n",
       "CCAvg       5000.0   1.937938    1.747659   0.0   0.7   1.5    2.5   10.0\n",
       "Mortgage    5000.0  56.498800  101.713802   0.0   0.0   0.0  101.0  635.0"
      ]
     },
     "execution_count": 15,
     "metadata": {},
     "output_type": "execute_result"
    }
   ],
   "source": [
    "df[['Age','Experience','Income','CCAvg','Mortgage']].describe().transpose()"
   ]
  },
  {
   "cell_type": "code",
   "execution_count": 16,
   "id": "d3040a90",
   "metadata": {},
   "outputs": [
    {
     "data": {
      "text/plain": [
       "Age          -0.029341\n",
       "Experience   -0.026325\n",
       "Income        0.841339\n",
       "CCAvg         1.598443\n",
       "Mortgage      2.104002\n",
       "dtype: float64"
      ]
     },
     "execution_count": 16,
     "metadata": {},
     "output_type": "execute_result"
    }
   ],
   "source": [
    "df[['Age','Experience','Income','CCAvg','Mortgage']].skew()"
   ]
  },
  {
   "cell_type": "code",
   "execution_count": 17,
   "id": "4045b870",
   "metadata": {},
   "outputs": [
    {
     "data": {
      "image/png": "[encoded data removed]",
      "text/plain": [
       "<Figure size 1400x400 with 4 Axes>"
      ]
     },
     "metadata": {},
     "output_type": "display_data"
    }
   ],
   "source": [
    "fig, axes = plt.subplots(2, 2, figsize=(14, 4))\n",
    "sns.distplot(df['Age'],ax=axes[0,0])\n",
    "sns.distplot(df['Experience'],ax=axes[0,1])\n",
    "sns.distplot(df['Income'],ax=axes[1,0])\n",
    "sns.distplot(df['CCAvg'],ax=axes[1,1])\n",
    "axes[0,0].set_title('Age Distribution')\n",
    "axes[0,1].set_title('Experience Distribution')\n",
    "axes[1,0].set_title('Income Distribution')\n",
    "axes[1,1].set_title('CCAvg Distribution')\n",
    "plt.tight_layout()"
   ]
  },
  {
   "cell_type": "code",
   "execution_count": 18,
   "id": "808724d6",
   "metadata": {},
   "outputs": [
    {
     "data": {
      "text/plain": [
       "<AxesSubplot:xlabel='Mortgage', ylabel='Density'>"
      ]
     },
     "execution_count": 18,
     "metadata": {},
     "output_type": "execute_result"
    },
    {
     "data": {
      "image/png": "[encoded data removed]",
      "text/plain": [
       "<Figure size 640x480 with 1 Axes>"
      ]
     },
     "metadata": {},
     "output_type": "display_data"
    }
   ],
   "source": [
    "sns.distplot(df['Mortgage'])"
   ]
  },
  {
   "cell_type": "markdown",
   "id": "01b6fea7",
   "metadata": {},
   "source": [
    "### Observation :\n",
    "1.Age feature is normally distributed, can be confirmed as\n",
    "\n",
    "a. skewness is -0.029 that means very slightly left skewed\n",
    "\n",
    "b. Mean(45.33) and Median(45.00) are very close to each other\n",
    "\n",
    "2.Experience is normally distributed\n",
    "\n",
    "a. skewness is -0.026 that means very slightly left skewed\n",
    "\n",
    "b. Mean(21.10) and Median(21) are very close to each other\n",
    "\n",
    "c.There are negative values, This could be a data input error, can simply remove as they are quite few\n",
    "\n",
    "3.Income is positively skewed, can be confirmed as\n",
    "\n",
    "a. skewness is 0.841 that means highly right skewed\n",
    "\n",
    "b. Mean(73.77) is greater than the Median(64.0)\n",
    "\n",
    "4.CCAvg is positively skewed, can be confirmed as\n",
    "\n",
    "a. skewness is 1.598443 that means highly right skewed\n",
    "\n",
    "b. Mean(1.93) is greater than the Median(1.5)\n",
    "\n",
    "5.Mortgage is positively skewed, can be confirmed as\n",
    "\n",
    "a. skewness is 2.104002 that means highly right skewed\n",
    "\n",
    "b. Mean(56.49) is greater than the Median(0.0)\n",
    "\n",
    "c. Most of the Customers have a mortgage of less than 40K. However the max value is 635K"
   ]
  },
  {
   "cell_type": "code",
   "execution_count": 19,
   "id": "1793f369",
   "metadata": {},
   "outputs": [],
   "source": [
    "Family_dummies= pd.get_dummies(df['Family'],drop_first=True,prefix='Family_Size')\n",
    "Education_dummies= pd.get_dummies(df['Education'],drop_first=True,prefix='Education_Level')"
   ]
  },
  {
   "cell_type": "markdown",
   "id": "c52ebaa6",
   "metadata": {},
   "source": [
    "Creating Dummy Variables for multi-Catagorical Column The reason why we create dummy variables for multi-categorical columns is that most machine learning algorithms cannot handle categorical variables directly. They require numerical data, and representing categorical variables with numerical data can be challenging."
   ]
  },
  {
   "cell_type": "code",
   "execution_count": 20,
   "id": "1b73f5d7",
   "metadata": {},
   "outputs": [],
   "source": [
    "df= pd.concat([df,Family_dummies,Education_dummies],axis=1)"
   ]
  },
  {
   "cell_type": "markdown",
   "id": "aea5aa20",
   "metadata": {},
   "source": [
    "concatinating the dummy variables to Data"
   ]
  },
  {
   "cell_type": "code",
   "execution_count": 21,
   "id": "9eb58b3a",
   "metadata": {},
   "outputs": [
    {
     "data": {
      "text/plain": [
       "ZIP Code    4.502257e+06\n",
       "ID          2.083750e+06\n",
       "dtype: float64"
      ]
     },
     "execution_count": 21,
     "metadata": {},
     "output_type": "execute_result"
    }
   ],
   "source": [
    "df[['ZIP Code','ID']].var()"
   ]
  },
  {
   "cell_type": "markdown",
   "id": "b2af07ad",
   "metadata": {},
   "source": [
    " high variance means fearure does not affect the target variable"
   ]
  },
  {
   "cell_type": "code",
   "execution_count": 22,
   "id": "39ca276f",
   "metadata": {},
   "outputs": [],
   "source": [
    "Cleaned_Data=df.drop(['ID','ZIP Code','Family','Education','Experience'],axis=1)"
   ]
  },
  {
   "cell_type": "markdown",
   "id": "8ac6024b",
   "metadata": {},
   "source": [
    "### Droping Columns\n",
    "ID :: Reason=> High Variance,no correlation\n",
    "\n",
    "ZIP Code :: Reason=> High Variance,no correlation\n",
    "\n",
    "Family :: Reason=> Already Created Dummy Variable for this feature\n",
    "\n",
    "Education :: Reason=> Already Created Dummy Variable for this feature\n",
    "\n",
    "Experience :: Reason => Age and Experience are highly Correlated thus we can drop one and since Experience column also have some negative or incorrect data thus it is more feasable to drop Experience Column."
   ]
  },
  {
   "cell_type": "code",
   "execution_count": 23,
   "id": "fd6d3b4e",
   "metadata": {},
   "outputs": [
    {
     "data": {
      "text/html": [
       "<div>\n",
       "<style scoped>\n",
       "    .dataframe tbody tr th:only-of-type {\n",
       "        vertical-align: middle;\n",
       "    }\n",
       "\n",
       "    .dataframe tbody tr th {\n",
       "        vertical-align: top;\n",
       "    }\n",
       "\n",
       "    .dataframe thead th {\n",
       "        text-align: right;\n",
       "    }\n",
       "</style>\n",
       "<table border=\"1\" class=\"dataframe\">\n",
       "  <thead>\n",
       "    <tr style=\"text-align: right;\">\n",
       "      <th></th>\n",
       "      <th>Age</th>\n",
       "      <th>Income</th>\n",
       "      <th>CCAvg</th>\n",
       "      <th>Mortgage</th>\n",
       "      <th>Personal Loan</th>\n",
       "      <th>Securities Account</th>\n",
       "      <th>CD Account</th>\n",
       "      <th>Online</th>\n",
       "      <th>CreditCard</th>\n",
       "      <th>Family_Size_2</th>\n",
       "      <th>Family_Size_3</th>\n",
       "      <th>Family_Size_4</th>\n",
       "      <th>Education_Level_2</th>\n",
       "      <th>Education_Level_3</th>\n",
       "    </tr>\n",
       "  </thead>\n",
       "  <tbody>\n",
       "    <tr>\n",
       "      <th>0</th>\n",
       "      <td>25</td>\n",
       "      <td>49</td>\n",
       "      <td>1.6</td>\n",
       "      <td>0</td>\n",
       "      <td>0</td>\n",
       "      <td>1</td>\n",
       "      <td>0</td>\n",
       "      <td>0</td>\n",
       "      <td>0</td>\n",
       "      <td>0</td>\n",
       "      <td>0</td>\n",
       "      <td>1</td>\n",
       "      <td>0</td>\n",
       "      <td>0</td>\n",
       "    </tr>\n",
       "    <tr>\n",
       "      <th>1</th>\n",
       "      <td>45</td>\n",
       "      <td>34</td>\n",
       "      <td>1.5</td>\n",
       "      <td>0</td>\n",
       "      <td>0</td>\n",
       "      <td>1</td>\n",
       "      <td>0</td>\n",
       "      <td>0</td>\n",
       "      <td>0</td>\n",
       "      <td>0</td>\n",
       "      <td>1</td>\n",
       "      <td>0</td>\n",
       "      <td>0</td>\n",
       "      <td>0</td>\n",
       "    </tr>\n",
       "    <tr>\n",
       "      <th>2</th>\n",
       "      <td>39</td>\n",
       "      <td>11</td>\n",
       "      <td>1.0</td>\n",
       "      <td>0</td>\n",
       "      <td>0</td>\n",
       "      <td>0</td>\n",
       "      <td>0</td>\n",
       "      <td>0</td>\n",
       "      <td>0</td>\n",
       "      <td>0</td>\n",
       "      <td>0</td>\n",
       "      <td>0</td>\n",
       "      <td>0</td>\n",
       "      <td>0</td>\n",
       "    </tr>\n",
       "    <tr>\n",
       "      <th>3</th>\n",
       "      <td>35</td>\n",
       "      <td>100</td>\n",
       "      <td>2.7</td>\n",
       "      <td>0</td>\n",
       "      <td>0</td>\n",
       "      <td>0</td>\n",
       "      <td>0</td>\n",
       "      <td>0</td>\n",
       "      <td>0</td>\n",
       "      <td>0</td>\n",
       "      <td>0</td>\n",
       "      <td>0</td>\n",
       "      <td>1</td>\n",
       "      <td>0</td>\n",
       "    </tr>\n",
       "    <tr>\n",
       "      <th>4</th>\n",
       "      <td>35</td>\n",
       "      <td>45</td>\n",
       "      <td>1.0</td>\n",
       "      <td>0</td>\n",
       "      <td>0</td>\n",
       "      <td>0</td>\n",
       "      <td>0</td>\n",
       "      <td>0</td>\n",
       "      <td>1</td>\n",
       "      <td>0</td>\n",
       "      <td>0</td>\n",
       "      <td>1</td>\n",
       "      <td>1</td>\n",
       "      <td>0</td>\n",
       "    </tr>\n",
       "  </tbody>\n",
       "</table>\n",
       "</div>"
      ],
      "text/plain": [
       "   Age  Income  CCAvg  Mortgage  Personal Loan  Securities Account  \\\n",
       "0   25      49    1.6         0              0                   1   \n",
       "1   45      34    1.5         0              0                   1   \n",
       "2   39      11    1.0         0              0                   0   \n",
       "3   35     100    2.7         0              0                   0   \n",
       "4   35      45    1.0         0              0                   0   \n",
       "\n",
       "   CD Account  Online  CreditCard  Family_Size_2  Family_Size_3  \\\n",
       "0           0       0           0              0              0   \n",
       "1           0       0           0              0              1   \n",
       "2           0       0           0              0              0   \n",
       "3           0       0           0              0              0   \n",
       "4           0       0           1              0              0   \n",
       "\n",
       "   Family_Size_4  Education_Level_2  Education_Level_3  \n",
       "0              1                  0                  0  \n",
       "1              0                  0                  0  \n",
       "2              0                  0                  0  \n",
       "3              0                  1                  0  \n",
       "4              1                  1                  0  "
      ]
     },
     "execution_count": 23,
     "metadata": {},
     "output_type": "execute_result"
    }
   ],
   "source": [
    "Cleaned_Data.head()"
   ]
  },
  {
   "cell_type": "markdown",
   "id": "3c46fc03",
   "metadata": {},
   "source": [
    "## Preparing Test and Train Data"
   ]
  },
  {
   "cell_type": "code",
   "execution_count": 25,
   "id": "a309a012",
   "metadata": {},
   "outputs": [],
   "source": [
    "x = Cleaned_Data.drop('Personal Loan',axis=1)\n",
    "y = Cleaned_Data['Personal Loan']"
   ]
  },
  {
   "cell_type": "code",
   "execution_count": 26,
   "id": "2a934283",
   "metadata": {},
   "outputs": [],
   "source": [
    "from sklearn.model_selection import train_test_split"
   ]
  },
  {
   "cell_type": "code",
   "execution_count": 27,
   "id": "6650cb31",
   "metadata": {},
   "outputs": [],
   "source": [
    "xtrain,xtest,ytrain,ytest=train_test_split(x,y,test_size=0.30,random_state=10)"
   ]
  },
  {
   "cell_type": "markdown",
   "id": "ea800791",
   "metadata": {},
   "source": [
    "## LOGISTIC REGRESSION"
   ]
  },
  {
   "cell_type": "code",
   "execution_count": 28,
   "id": "9f27cc70",
   "metadata": {},
   "outputs": [],
   "source": [
    "from sklearn.linear_model import LogisticRegression\n",
    "from sklearn.metrics import classification_report,accuracy_score,confusion_matrix"
   ]
  },
  {
   "cell_type": "code",
   "execution_count": 29,
   "id": "6a6c7612",
   "metadata": {},
   "outputs": [],
   "source": [
    "def mymodel(model):\n",
    "    model.fit(xtrain,ytrain)\n",
    "    ypred=model.predict(xtest)\n",
    "    \n",
    "    train=model.score(xtrain,ytrain)\n",
    "    test=model.score(xtest,ytest)\n",
    "    \n",
    "    print(f'accuracy_score:{train} \\n testing accuracy:{test}')\n",
    "    print(confusion_matrix(ytest,ypred))\n",
    "    print(classification_report(ytest,ypred))\n",
    "    return model"
   ]
  },
  {
   "cell_type": "code",
   "execution_count": 30,
   "id": "a4b91dc7",
   "metadata": {},
   "outputs": [],
   "source": [
    "lreg=LogisticRegression()"
   ]
  },
  {
   "cell_type": "code",
   "execution_count": 40,
   "id": "f2a819bf",
   "metadata": {},
   "outputs": [
    {
     "name": "stdout",
     "output_type": "stream",
     "text": [
      "accuracy_score:0.9577142857142857 \n",
      " testing accuracy:0.954\n",
      "[[1341   19]\n",
      " [  50   90]]\n",
      "              precision    recall  f1-score   support\n",
      "\n",
      "           0       0.96      0.99      0.97      1360\n",
      "           1       0.83      0.64      0.72       140\n",
      "\n",
      "    accuracy                           0.95      1500\n",
      "   macro avg       0.89      0.81      0.85      1500\n",
      "weighted avg       0.95      0.95      0.95      1500\n",
      "\n"
     ]
    },
    {
     "data": {
      "text/plain": [
       "LogisticRegression()"
      ]
     },
     "execution_count": 40,
     "metadata": {},
     "output_type": "execute_result"
    }
   ],
   "source": [
    "mymodel(lreg)"
   ]
  },
  {
   "cell_type": "markdown",
   "id": "a70faef8",
   "metadata": {},
   "source": [
    "### Model Scoring\n",
    "1. Accuracy :: 95%\n",
    "\n",
    "2. Re-call :: 64%\n",
    "\n",
    "3. Precision :: 83%\n",
    "\n",
    "4. F1-Score :: 72%\n",
    "\n",
    "* Accuracy is not a good measure in this situation because Among these 5000 customers, only 480 (= 9.6%) accepted the personal loan that was offered to them in the earlier campaign so we will go for F1-Score and 72% as out model Score."
   ]
  },
  {
   "cell_type": "markdown",
   "id": "f5608474",
   "metadata": {},
   "source": [
    "## KNN"
   ]
  },
  {
   "cell_type": "code",
   "execution_count": 32,
   "id": "7aaebedc",
   "metadata": {},
   "outputs": [
    {
     "name": "stdout",
     "output_type": "stream",
     "text": [
      "              precision    recall  f1-score   support\n",
      "\n",
      "           0       0.94      0.94      0.94      1360\n",
      "           1       0.44      0.44      0.44       140\n",
      "\n",
      "    accuracy                           0.90      1500\n",
      "   macro avg       0.69      0.69      0.69      1500\n",
      "weighted avg       0.90      0.90      0.90      1500\n",
      "\n"
     ]
    }
   ],
   "source": [
    "from sklearn.neighbors import KNeighborsClassifier\n",
    "knn = KNeighborsClassifier(n_neighbors = 3, metric='euclidean')\n",
    "knn.fit(xtrain, ytrain)\n",
    "y_Knnpred = knn.predict(xtest)\n",
    "print(classification_report(ytest, y_Knnpred, digits=2))"
   ]
  },
  {
   "cell_type": "code",
   "execution_count": 34,
   "id": "eed6eab2",
   "metadata": {},
   "outputs": [],
   "source": [
    "from sklearn.metrics import average_precision_score, confusion_matrix, accuracy_score, classification_report,f1_score"
   ]
  },
  {
   "cell_type": "code",
   "execution_count": 35,
   "id": "66539f12",
   "metadata": {},
   "outputs": [
    {
     "name": "stdout",
     "output_type": "stream",
     "text": [
      "The optimal number of neighbors is 3\n"
     ]
    }
   ],
   "source": [
    "myList = list(range(3,30,2))\n",
    "ac_scores = []\n",
    "\n",
    "for k in myList:\n",
    "    knn = KNeighborsClassifier(n_neighbors=k)\n",
    "    knn.fit(xtrain, ytrain)\n",
    "    y_knnpred = knn.predict(xtest)\n",
    "    scores = f1_score(ytest, y_knnpred)\n",
    "    ac_scores.append(scores)\n",
    "    \n",
    "MSE = [1 - x for x in ac_scores]\n",
    "\n",
    "optimal_k = myList[MSE.index(min(MSE))]\n",
    "print(\"The optimal number of neighbors is %d\" % optimal_k)"
   ]
  },
  {
   "cell_type": "markdown",
   "id": "d068b345",
   "metadata": {},
   "source": [
    "### Model Scoring\n",
    "1. Accuracy :: 90%\n",
    "\n",
    "2. Re-call :: 44%\n",
    "\n",
    "3. Precision :: 44%\n",
    "\n",
    "4. F1-Score :: 44%\n",
    "\n",
    "* Accuracy is not a good measure in this situation because Among these 5000 customers, only 480 (= 9.6%) accepted the personal loan that was offered to them in the earlier campaign so we will go for F1-Score and 44% as out model Score."
   ]
  },
  {
   "cell_type": "markdown",
   "id": "f91ba887",
   "metadata": {},
   "source": [
    "## NAIVE-BAYES ALGORITHM"
   ]
  },
  {
   "cell_type": "code",
   "execution_count": 38,
   "id": "fb186f91",
   "metadata": {},
   "outputs": [],
   "source": [
    "from sklearn.naive_bayes import GaussianNB"
   ]
  },
  {
   "cell_type": "code",
   "execution_count": 39,
   "id": "af1ee1d7",
   "metadata": {},
   "outputs": [],
   "source": [
    "naive = GaussianNB()"
   ]
  },
  {
   "cell_type": "code",
   "execution_count": 41,
   "id": "36e4fa56",
   "metadata": {},
   "outputs": [
    {
     "name": "stdout",
     "output_type": "stream",
     "text": [
      "accuracy_score:0.882 \n",
      " testing accuracy:0.8806666666666667\n",
      "[[1236  124]\n",
      " [  55   85]]\n",
      "              precision    recall  f1-score   support\n",
      "\n",
      "           0       0.96      0.91      0.93      1360\n",
      "           1       0.41      0.61      0.49       140\n",
      "\n",
      "    accuracy                           0.88      1500\n",
      "   macro avg       0.68      0.76      0.71      1500\n",
      "weighted avg       0.91      0.88      0.89      1500\n",
      "\n"
     ]
    },
    {
     "data": {
      "text/plain": [
       "GaussianNB()"
      ]
     },
     "execution_count": 41,
     "metadata": {},
     "output_type": "execute_result"
    }
   ],
   "source": [
    "mymodel(naive)"
   ]
  },
  {
   "cell_type": "markdown",
   "id": "237e6eaf",
   "metadata": {},
   "source": [
    "### Model Scoring\n",
    "1. Accuracy :: 88%\n",
    "\n",
    "2. Re-call :: 61%\n",
    "\n",
    "3. Precision :: 41%\n",
    "\n",
    "4. F1-Score :: 49%\n",
    "\n",
    "* Accuracy is not a good measure in this situation because Among these 5000 customers, only 480 (= 9.6%) accepted the personal loan that was offered to them in the earlier campaign so we will go for F1-Score and 49% as out model Score."
   ]
  },
  {
   "cell_type": "markdown",
   "id": "3aa9e7ca",
   "metadata": {},
   "source": [
    "## DECISION TREE"
   ]
  },
  {
   "cell_type": "code",
   "execution_count": 42,
   "id": "abd01717",
   "metadata": {},
   "outputs": [],
   "source": [
    "from sklearn.tree import DecisionTreeClassifier,DecisionTreeRegressor"
   ]
  },
  {
   "cell_type": "code",
   "execution_count": 43,
   "id": "731c0f06",
   "metadata": {},
   "outputs": [],
   "source": [
    "dt=DecisionTreeRegressor()"
   ]
  },
  {
   "cell_type": "code",
   "execution_count": 44,
   "id": "2e9dfea8",
   "metadata": {},
   "outputs": [
    {
     "name": "stdout",
     "output_type": "stream",
     "text": [
      "accuracy_score:1.0 \n",
      " testing accuracy:0.8109243697478992\n",
      "[[1349   11]\n",
      " [  13  127]]\n",
      "              precision    recall  f1-score   support\n",
      "\n",
      "           0       0.99      0.99      0.99      1360\n",
      "           1       0.92      0.91      0.91       140\n",
      "\n",
      "    accuracy                           0.98      1500\n",
      "   macro avg       0.96      0.95      0.95      1500\n",
      "weighted avg       0.98      0.98      0.98      1500\n",
      "\n"
     ]
    },
    {
     "data": {
      "text/plain": [
       "DecisionTreeRegressor()"
      ]
     },
     "execution_count": 44,
     "metadata": {},
     "output_type": "execute_result"
    }
   ],
   "source": [
    "mymodel(dt)"
   ]
  },
  {
   "cell_type": "markdown",
   "id": "18463c4a",
   "metadata": {},
   "source": [
    "### Model Scoring\n",
    "1. Accuracy :: 98%\n",
    "\n",
    "2. Re-call :: 91%\n",
    "\n",
    "3. Precision :: 92%\n",
    "\n",
    "4. F1-Score :: 91%\n",
    "\n",
    "* Accuracy is not a good measure in this situation because Among these 5000 customers, only 480 (= 9.6%) accepted the personal loan that was offered to them in the earlier campaign so we will go for F1-Score and 91% as out model Score."
   ]
  },
  {
   "cell_type": "code",
   "execution_count": null,
   "id": "746b0811",
   "metadata": {},
   "outputs": [],
   "source": []
  }
 ],
 "metadata": {
  "kernelspec": {
   "display_name": "Python 3 (ipykernel)",
   "language": "python",
   "name": "python3"
  },
  "language_info": {
   "codemirror_mode": {
    "name": "ipython",
    "version": 3
   },
   "file_extension": ".py",
   "mimetype": "text/x-python",
   "name": "python",
   "nbconvert_exporter": "python",
   "pygments_lexer": "ipython3",
   "version": "3.9.13"
  }
 },
 "nbformat": 4,
 "nbformat_minor": 5
}
